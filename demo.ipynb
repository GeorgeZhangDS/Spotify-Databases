{
 "cells": [
  {
   "attachments": {},
   "cell_type": "markdown",
   "metadata": {},
   "source": [
    "# Spotify Databases Demo"
   ]
  },
  {
   "attachments": {},
   "cell_type": "markdown",
   "metadata": {},
   "source": [
    "### Imports"
   ]
  },
  {
   "cell_type": "code",
   "execution_count": 22,
   "metadata": {},
   "outputs": [],
   "source": [
    "import data_cleaning\n",
    "import tabular_query\n",
    "import graph_query\n",
    "\n",
    "import time\n",
    "import redis\n",
    "import warnings\n",
    "import psycopg2\n",
    "from psycopg2 import extras\n",
    "from neo4j import GraphDatabase\n",
    "from cassandra.cluster import Cluster\n",
    "warnings.filterwarnings(\"ignore\")"
   ]
  },
  {
   "cell_type": "code",
   "execution_count": 23,
   "metadata": {},
   "outputs": [
    {
     "name": "stdout",
     "output_type": "stream",
     "text": [
      "The autoreload extension is already loaded. To reload it, use:\n",
      "  %reload_ext autoreload\n"
     ]
    }
   ],
   "source": [
    "%load_ext autoreload\n",
    "%autoreload 2"
   ]
  },
  {
   "attachments": {},
   "cell_type": "markdown",
   "metadata": {},
   "source": [
    "### Data Cleaning"
   ]
  },
  {
   "cell_type": "code",
   "execution_count": 24,
   "metadata": {},
   "outputs": [
    {
     "data": {
      "text/html": [
       "<div>\n",
       "<style scoped>\n",
       "    .dataframe tbody tr th:only-of-type {\n",
       "        vertical-align: middle;\n",
       "    }\n",
       "\n",
       "    .dataframe tbody tr th {\n",
       "        vertical-align: top;\n",
       "    }\n",
       "\n",
       "    .dataframe thead th {\n",
       "        text-align: right;\n",
       "    }\n",
       "</style>\n",
       "<table border=\"1\" class=\"dataframe\">\n",
       "  <thead>\n",
       "    <tr style=\"text-align: right;\">\n",
       "      <th></th>\n",
       "      <th>id</th>\n",
       "      <th>followers</th>\n",
       "      <th>genres</th>\n",
       "      <th>name</th>\n",
       "      <th>popularity</th>\n",
       "    </tr>\n",
       "  </thead>\n",
       "  <tbody>\n",
       "    <tr>\n",
       "      <th>0</th>\n",
       "      <td>0DheY5irMjBUeLybbCUEZ2</td>\n",
       "      <td>0</td>\n",
       "      <td>[]</td>\n",
       "      <td>Armid &amp; Amir Zare Pashai feat. Sara Rouzbehani</td>\n",
       "      <td>0</td>\n",
       "    </tr>\n",
       "  </tbody>\n",
       "</table>\n",
       "</div>"
      ],
      "text/plain": [
       "                       id  followers genres  \\\n",
       "0  0DheY5irMjBUeLybbCUEZ2          0     []   \n",
       "\n",
       "                                             name  popularity  \n",
       "0  Armid & Amir Zare Pashai feat. Sara Rouzbehani           0  "
      ]
     },
     "metadata": {},
     "output_type": "display_data"
    },
    {
     "data": {
      "text/html": [
       "<div>\n",
       "<style scoped>\n",
       "    .dataframe tbody tr th:only-of-type {\n",
       "        vertical-align: middle;\n",
       "    }\n",
       "\n",
       "    .dataframe tbody tr th {\n",
       "        vertical-align: top;\n",
       "    }\n",
       "\n",
       "    .dataframe thead th {\n",
       "        text-align: right;\n",
       "    }\n",
       "</style>\n",
       "<table border=\"1\" class=\"dataframe\">\n",
       "  <thead>\n",
       "    <tr style=\"text-align: right;\">\n",
       "      <th></th>\n",
       "      <th>id</th>\n",
       "      <th>name</th>\n",
       "      <th>popularity</th>\n",
       "      <th>duration_ms</th>\n",
       "      <th>explicit</th>\n",
       "      <th>artists</th>\n",
       "      <th>id_artists</th>\n",
       "      <th>release_date</th>\n",
       "      <th>danceability</th>\n",
       "      <th>energy</th>\n",
       "      <th>...</th>\n",
       "      <th>loudness</th>\n",
       "      <th>mode</th>\n",
       "      <th>speechiness</th>\n",
       "      <th>acousticness</th>\n",
       "      <th>instrumentalness</th>\n",
       "      <th>liveness</th>\n",
       "      <th>valence</th>\n",
       "      <th>tempo</th>\n",
       "      <th>time_signature</th>\n",
       "      <th>demo</th>\n",
       "    </tr>\n",
       "  </thead>\n",
       "  <tbody>\n",
       "    <tr>\n",
       "      <th>0</th>\n",
       "      <td>35iwgR4jXetI318WEWsa1Q</td>\n",
       "      <td>Carve</td>\n",
       "      <td>6</td>\n",
       "      <td>126903</td>\n",
       "      <td>0</td>\n",
       "      <td>['Uli']</td>\n",
       "      <td>['45tIt06XoI0Iio4LBEVpls']</td>\n",
       "      <td>1922-02-22</td>\n",
       "      <td>0.645</td>\n",
       "      <td>0.445</td>\n",
       "      <td>...</td>\n",
       "      <td>-13.338</td>\n",
       "      <td>1</td>\n",
       "      <td>0.451</td>\n",
       "      <td>0.674</td>\n",
       "      <td>0.744</td>\n",
       "      <td>0.151</td>\n",
       "      <td>0.127</td>\n",
       "      <td>104.851</td>\n",
       "      <td>3</td>\n",
       "      <td>False</td>\n",
       "    </tr>\n",
       "  </tbody>\n",
       "</table>\n",
       "<p>1 rows × 21 columns</p>\n",
       "</div>"
      ],
      "text/plain": [
       "                       id   name  popularity  duration_ms  explicit  artists  \\\n",
       "0  35iwgR4jXetI318WEWsa1Q  Carve           6       126903         0  ['Uli']   \n",
       "\n",
       "                   id_artists release_date  danceability  energy  ...  \\\n",
       "0  ['45tIt06XoI0Iio4LBEVpls']   1922-02-22         0.645   0.445  ...   \n",
       "\n",
       "   loudness  mode  speechiness  acousticness  instrumentalness  liveness  \\\n",
       "0   -13.338     1        0.451         0.674             0.744     0.151   \n",
       "\n",
       "   valence    tempo  time_signature   demo  \n",
       "0    0.127  104.851               3  False  \n",
       "\n",
       "[1 rows x 21 columns]"
      ]
     },
     "metadata": {},
     "output_type": "display_data"
    },
    {
     "data": {
      "text/html": [
       "<div>\n",
       "<style scoped>\n",
       "    .dataframe tbody tr th:only-of-type {\n",
       "        vertical-align: middle;\n",
       "    }\n",
       "\n",
       "    .dataframe tbody tr th {\n",
       "        vertical-align: top;\n",
       "    }\n",
       "\n",
       "    .dataframe thead th {\n",
       "        text-align: right;\n",
       "    }\n",
       "</style>\n",
       "<table border=\"1\" class=\"dataframe\">\n",
       "  <thead>\n",
       "    <tr style=\"text-align: right;\">\n",
       "      <th></th>\n",
       "      <th>spotify_id</th>\n",
       "      <th>name</th>\n",
       "      <th>followers</th>\n",
       "      <th>popularity</th>\n",
       "      <th>genres</th>\n",
       "      <th>chart_hits</th>\n",
       "    </tr>\n",
       "  </thead>\n",
       "  <tbody>\n",
       "    <tr>\n",
       "      <th>1</th>\n",
       "      <td>4lDiJcOJ2GLCK6p9q5BgfK</td>\n",
       "      <td>Kontra K</td>\n",
       "      <td>1999676.0</td>\n",
       "      <td>72</td>\n",
       "      <td>['christlicher rap', 'german hip hop']</td>\n",
       "      <td>['at (44)', 'de (111)', 'lu (22)', 'ch (31)', ...</td>\n",
       "    </tr>\n",
       "  </tbody>\n",
       "</table>\n",
       "</div>"
      ],
      "text/plain": [
       "               spotify_id      name  followers  popularity  \\\n",
       "1  4lDiJcOJ2GLCK6p9q5BgfK  Kontra K  1999676.0          72   \n",
       "\n",
       "                                   genres  \\\n",
       "1  ['christlicher rap', 'german hip hop']   \n",
       "\n",
       "                                          chart_hits  \n",
       "1  ['at (44)', 'de (111)', 'lu (22)', 'ch (31)', ...  "
      ]
     },
     "metadata": {},
     "output_type": "display_data"
    },
    {
     "data": {
      "text/html": [
       "<div>\n",
       "<style scoped>\n",
       "    .dataframe tbody tr th:only-of-type {\n",
       "        vertical-align: middle;\n",
       "    }\n",
       "\n",
       "    .dataframe tbody tr th {\n",
       "        vertical-align: top;\n",
       "    }\n",
       "\n",
       "    .dataframe thead th {\n",
       "        text-align: right;\n",
       "    }\n",
       "</style>\n",
       "<table border=\"1\" class=\"dataframe\">\n",
       "  <thead>\n",
       "    <tr style=\"text-align: right;\">\n",
       "      <th></th>\n",
       "      <th>id</th>\n",
       "      <th>name</th>\n",
       "      <th>popularity</th>\n",
       "      <th>duration_ms</th>\n",
       "      <th>artists</th>\n",
       "      <th>id_artists</th>\n",
       "      <th>danceability</th>\n",
       "      <th>energy</th>\n",
       "      <th>key</th>\n",
       "      <th>loudness</th>\n",
       "      <th>liveness</th>\n",
       "      <th>tempo</th>\n",
       "    </tr>\n",
       "  </thead>\n",
       "  <tbody>\n",
       "    <tr>\n",
       "      <th>150</th>\n",
       "      <td>3eMrYc092k7SIJfWJ7oasR</td>\n",
       "      <td>Weather Bird</td>\n",
       "      <td>38</td>\n",
       "      <td>161933</td>\n",
       "      <td>['Louis Armstrong','Earl Hines']</td>\n",
       "      <td>19eLuQmk9aCobbVDHc6eek,2mY5u4CceAPrpBnse1WpFr</td>\n",
       "      <td>0.831</td>\n",
       "      <td>0.262</td>\n",
       "      <td>8</td>\n",
       "      <td>-12.386</td>\n",
       "      <td>0.204</td>\n",
       "      <td>104.606</td>\n",
       "    </tr>\n",
       "  </tbody>\n",
       "</table>\n",
       "</div>"
      ],
      "text/plain": [
       "                         id          name  popularity  duration_ms  \\\n",
       "150  3eMrYc092k7SIJfWJ7oasR  Weather Bird          38       161933   \n",
       "\n",
       "                              artists  \\\n",
       "150  ['Louis Armstrong','Earl Hines']   \n",
       "\n",
       "                                        id_artists  danceability  energy  key  \\\n",
       "150  19eLuQmk9aCobbVDHc6eek,2mY5u4CceAPrpBnse1WpFr         0.831   0.262    8   \n",
       "\n",
       "     loudness  liveness    tempo  \n",
       "150   -12.386     0.204  104.606  "
      ]
     },
     "metadata": {},
     "output_type": "display_data"
    },
    {
     "data": {
      "text/html": [
       "<div>\n",
       "<style scoped>\n",
       "    .dataframe tbody tr th:only-of-type {\n",
       "        vertical-align: middle;\n",
       "    }\n",
       "\n",
       "    .dataframe tbody tr th {\n",
       "        vertical-align: top;\n",
       "    }\n",
       "\n",
       "    .dataframe thead th {\n",
       "        text-align: right;\n",
       "    }\n",
       "</style>\n",
       "<table border=\"1\" class=\"dataframe\">\n",
       "  <thead>\n",
       "    <tr style=\"text-align: right;\">\n",
       "      <th></th>\n",
       "      <th>id_0</th>\n",
       "      <th>id_1</th>\n",
       "    </tr>\n",
       "  </thead>\n",
       "  <tbody>\n",
       "    <tr>\n",
       "      <th>0</th>\n",
       "      <td>76M2Ekj8bG8W7X2nbx2CpF</td>\n",
       "      <td>7sfl4Xt5KmfyDs2T3SVSMK</td>\n",
       "    </tr>\n",
       "  </tbody>\n",
       "</table>\n",
       "</div>"
      ],
      "text/plain": [
       "                     id_0                    id_1\n",
       "0  76M2Ekj8bG8W7X2nbx2CpF  7sfl4Xt5KmfyDs2T3SVSMK"
      ]
     },
     "metadata": {},
     "output_type": "display_data"
    }
   ],
   "source": [
    "artist_df, track_df= data_cleaning.clean_data_tabular()\n",
    "artist_nodes, track_nodes, collaborations = data_cleaning.clean_data_graph(track_df)\n",
    "for df in [artist_df, track_df, artist_nodes, track_nodes, collaborations]:\n",
    "    display(df.head(1))"
   ]
  },
  {
   "attachments": {},
   "cell_type": "markdown",
   "metadata": {},
   "source": [
    "### PostgreSQL with Redis"
   ]
  },
  {
   "attachments": {},
   "cell_type": "markdown",
   "metadata": {},
   "source": [
    "Redis setup"
   ]
  },
  {
   "cell_type": "code",
   "execution_count": 4,
   "metadata": {},
   "outputs": [
    {
     "data": {
      "text/plain": [
       "True"
      ]
     },
     "execution_count": 4,
     "metadata": {},
     "output_type": "execute_result"
    }
   ],
   "source": [
    "# Redis\n",
    "r = redis.Redis(host='localhost', port=6379, db=0,\n",
    "                decode_responses=True)\n",
    "r.hmset('fact_memroy', {0: 1, 1: 1, 'max': 1})\n",
    "r.flushall()"
   ]
  },
  {
   "attachments": {},
   "cell_type": "markdown",
   "metadata": {},
   "source": [
    "PostgreSQL setup"
   ]
  },
  {
   "cell_type": "code",
   "execution_count": 5,
   "metadata": {},
   "outputs": [],
   "source": [
    "# PostgreSQL\n",
    "conn = psycopg2.connect(dbname='my_database', user='postgres',\n",
    "                        password='mysecretpassword', host='localhost',\n",
    "                        port='5433')\n",
    "cur = conn.cursor()"
   ]
  },
  {
   "cell_type": "code",
   "execution_count": 6,
   "metadata": {},
   "outputs": [],
   "source": [
    "# Drop and create table artist_df \n",
    "drop_table = \"\"\"\n",
    "DROP TABLE IF EXISTS artist_df\n",
    "\"\"\"\n",
    "cur.execute(drop_table)\n",
    "\n",
    "create_table = \"\"\"\n",
    "    CREATE TABLE artist_df (\n",
    "        id TEXT,\n",
    "        followers INT,\n",
    "        genres TEXT,\n",
    "        name TEXT,\n",
    "        popularity INT,\n",
    "        PRIMARY KEY (id)\n",
    "    );\n",
    "\"\"\"\n",
    "cur.execute(create_table)"
   ]
  },
  {
   "cell_type": "code",
   "execution_count": 7,
   "metadata": {},
   "outputs": [],
   "source": [
    "artist_data = artist_df.values.tolist()\n",
    "insertion = \"\"\"\n",
    "    INSERT INTO artist_df \n",
    "    (id, followers, genres, name, popularity)\n",
    "    VALUES %s\n",
    "\"\"\"\n",
    "extras.execute_values(cur, insertion, artist_data)\n",
    "conn.commit()"
   ]
  },
  {
   "attachments": {},
   "cell_type": "markdown",
   "metadata": {},
   "source": [
    "##### Example 1: \n",
    "In this example, I retrieve information about the Canadian pop singer Justin Bieber. Initially, there is no cache present in Redis, so the first retrieval of this query takes longer compared to the second retrieval. The benefit of Redis for this function is to reduce the time spent by users on repetitive queries."
   ]
  },
  {
   "cell_type": "code",
   "execution_count": 8,
   "metadata": {},
   "outputs": [
    {
     "name": "stdout",
     "output_type": "stream",
     "text": [
      "Query: \n",
      "        SELECT\n",
      "        id , name , followers\n",
      "        FROM artist_df\n",
      "        WHERE name = 'Justin Bieber'\n",
      "        \n",
      "    \n",
      "PostgreSQL not using Redis as cache, time: 0.08336782455444336 s.\n",
      "[('1uNFoZAHBGtllmzznpCI3s', 'Justin Bieber', 44606973)]\n",
      "\n",
      "Query: \n",
      "        SELECT\n",
      "        id , name , followers\n",
      "        FROM artist_df\n",
      "        WHERE name = 'Justin Bieber'\n",
      "        \n",
      "    \n",
      "PostgreSQL using Redis as cache, time: 0.0009121894836425781 s.\n",
      "[('1uNFoZAHBGtllmzznpCI3s', 'Justin Bieber', 44606973)]\n",
      "----------------------------------------------------------------------------------------\n",
      "Speed Up :91.39309984317825\n"
     ]
    }
   ],
   "source": [
    "start = time.time()\n",
    "result = tabular_query.search_artist(r, cur, name = 'Justin Bieber', projection = ['id', 'name', 'followers'])\n",
    "end = time.time()\n",
    "\n",
    "before_redis = end - start\n",
    "print(f\"PostgreSQL not using Redis as cache, time: {end - start} s.\")\n",
    "print(result)\n",
    "print()\n",
    "\n",
    "start = time.time()\n",
    "result = tabular_query.search_artist(r, cur, name = 'Justin Bieber', projection = ['id', 'name', 'followers'])\n",
    "end = time.time()\n",
    "after_redis = end - start\n",
    "print(f\"PostgreSQL using Redis as cache, time: {end - start} s.\")\n",
    "print(result)\n",
    "\n",
    "print('----------------------------------------------------------------------------------------')\n",
    "print(f'Speed Up :{before_redis/after_redis}')"
   ]
  },
  {
   "attachments": {},
   "cell_type": "markdown",
   "metadata": {},
   "source": [
    "##### Example 2: \n",
    "In this example, our function attempts to retrieve information about the renowned Indian singer Udit Narayan. However, this time we do not provide any information regarding the projection step. In other words, we only provide information about the selection step, specifically the 'name' column. When we do not provide information about the projection step, the function returns all columns."
   ]
  },
  {
   "cell_type": "code",
   "execution_count": 9,
   "metadata": {},
   "outputs": [
    {
     "name": "stdout",
     "output_type": "stream",
     "text": [
      "Query: \n",
      "        SELECT\n",
      "        id , followers , genres , name , popularity\n",
      "        FROM artist_df\n",
      "        WHERE name = 'Udit Narayan'\n",
      "        \n",
      "    \n",
      "PostgreSQL not using Redis as cache, time: 0.06472110748291016 s.\n",
      "[('70B80Lwx2sxti0M1Ng9e8K', 3409497, \"['chutney','classic bollywood','desi pop','filmi','sufi']\", 'Udit Narayan', 72)]\n",
      "\n",
      "Query: \n",
      "        SELECT\n",
      "        id , followers , genres , name , popularity\n",
      "        FROM artist_df\n",
      "        WHERE name = 'Udit Narayan'\n",
      "        \n",
      "    \n",
      "PostgreSQL using Redis as cache, time: 0.0013632774353027344 s.\n",
      "[('70B80Lwx2sxti0M1Ng9e8K', 3409497, \"['chutney','classic bollywood','desi pop','filmi','sufi']\", 'Udit Narayan', 72)]\n",
      "----------------------------------------------------------------------------------------\n",
      "Speed Up :47.474641483036024\n"
     ]
    }
   ],
   "source": [
    "start = time.time()\n",
    "result = tabular_query.search_artist(r, cur, name = 'Udit Narayan')\n",
    "end = time.time()\n",
    "\n",
    "before_redis = end - start\n",
    "print(f\"PostgreSQL not using Redis as cache, time: {end - start} s.\")\n",
    "print(result)\n",
    "print()\n",
    "\n",
    "start = time.time()\n",
    "result = tabular_query.search_artist(r, cur, name = 'Udit Narayan')\n",
    "end = time.time()\n",
    "after_redis = end - start\n",
    "print(f\"PostgreSQL using Redis as cache, time: {end - start} s.\")\n",
    "print(result)\n",
    "\n",
    "print('----------------------------------------------------------------------------------------')\n",
    "print(f'Speed Up :{before_redis/after_redis}')"
   ]
  },
  {
   "attachments": {},
   "cell_type": "markdown",
   "metadata": {},
   "source": [
    "### Cassandra with Redis"
   ]
  },
  {
   "attachments": {},
   "cell_type": "markdown",
   "metadata": {},
   "source": [
    "Cassandra setup"
   ]
  },
  {
   "cell_type": "code",
   "execution_count": 10,
   "metadata": {},
   "outputs": [],
   "source": [
    "# Cassandra\n",
    "cluster = Cluster(['127.0.0.1'])\n",
    "cassandra_session = cluster.connect()\n",
    "\n",
    "cassandra_session.execute(\"\"\"\n",
    "    create keyspace if not exists cassandra_redis\n",
    "    with replication = {'class': 'SimpleStrategy', 'replication_factor': 1}\n",
    "\"\"\")\n",
    "cassandra_session.set_keyspace('cassandra_redis')"
   ]
  },
  {
   "attachments": {},
   "cell_type": "markdown",
   "metadata": {},
   "source": [
    "#### Function ①: popularity_by_month(year, month)\n",
    "In this function, users can input the year and month to obtain the  number of tracks of various popularity levels for that specific month."
   ]
  },
  {
   "attachments": {},
   "cell_type": "markdown",
   "metadata": {},
   "source": [
    "Insert data"
   ]
  },
  {
   "cell_type": "code",
   "execution_count": 11,
   "metadata": {},
   "outputs": [],
   "source": [
    "cassandra_session.execute('DROP TABLE IF EXISTS month_popularity;')\n",
    "\n",
    "creation = \\\n",
    "    \"\"\"\n",
    "    CREATE TABLE IF NOT EXISTS month_popularity (\n",
    "        year INT,\n",
    "        month INT,\n",
    "        popularity INT,\n",
    "        id TEXT,\n",
    "        PRIMARY KEY ((year, month), popularity, id)\n",
    "    )\n",
    "    WITH CLUSTERING ORDER BY (popularity ASC, id ASC);\n",
    "\"\"\"\n",
    "cassandra_session.execute(creation)\n",
    "tabular_query.insertion_popularity_by_month(cassandra_session, track_df)"
   ]
  },
  {
   "attachments": {},
   "cell_type": "markdown",
   "metadata": {},
   "source": [
    "##### Example: \n",
    "In this example, our function creates a CQL query based on the user's inputs to retrieve data from Cassandra. We want to examine the distribution of popularity count in January 2015. In the first query, the query cache in Redis does not have the result for our query, so the efficiency is lower. However, in the second query, Redis already has the result cached, so the efficiency is higher."
   ]
  },
  {
   "cell_type": "code",
   "execution_count": 21,
   "metadata": {},
   "outputs": [
    {
     "name": "stdout",
     "output_type": "stream",
     "text": [
      "Cassandra not using Redis as cache, time: 0.2698540687561035 s.\n",
      "Cassandra using Redis as cache, time: 0.0019979476928710938 s.\n",
      "----------------------------------------------------------------------------------------\n",
      "Speed Up :135.0656324582339 \n",
      "\n",
      "Row(year=2015, month=1, popularity=0, count=88)\n",
      "Row(year=2015, month=1, popularity=1, count=28)\n",
      "Row(year=2015, month=1, popularity=2, count=13)\n",
      "Row(year=2015, month=1, popularity=3, count=12)\n",
      "Row(year=2015, month=1, popularity=4, count=10)\n",
      "Row(year=2015, month=1, popularity=5, count=26)\n",
      "Row(year=2015, month=1, popularity=6, count=8)\n",
      "Row(year=2015, month=1, popularity=7, count=9)\n",
      "Row(year=2015, month=1, popularity=8, count=7)\n",
      "Row(year=2015, month=1, popularity=9, count=2)\n"
     ]
    }
   ],
   "source": [
    "r.flushall()\n",
    "\n",
    "start = time.time()\n",
    "result = tabular_query.popularity_by_month(r, cassandra_session, 2015, 1)\n",
    "end = time.time()\n",
    "\n",
    "before_redis = end - start\n",
    "print(f\"Cassandra not using Redis as cache, time: {end - start} s.\")\n",
    "\n",
    "start = time.time()\n",
    "result = tabular_query.popularity_by_month(r, cassandra_session, 2015, 1)\n",
    "end = time.time()\n",
    "after_redis = end - start\n",
    "print(f\"Cassandra using Redis as cache, time: {end - start} s.\")\n",
    "\n",
    "print('----------------------------------------------------------------------------------------')\n",
    "print(f'Speed Up :{before_redis/after_redis}', '\\n')\n",
    "\n",
    "for line in result[:10]:\n",
    "    print(line)"
   ]
  },
  {
   "attachments": {},
   "cell_type": "markdown",
   "metadata": {},
   "source": [
    "#### Function ②: track_by_music_attributes(key, mode, time_signature, limit)\n",
    "In this function, users can utilize the track's modality, estimated time signature, and key signature to extract the names of all appropriate songs and their corresponding IDs."
   ]
  },
  {
   "attachments": {},
   "cell_type": "markdown",
   "metadata": {},
   "source": [
    "Insert data"
   ]
  },
  {
   "cell_type": "code",
   "execution_count": 13,
   "metadata": {},
   "outputs": [],
   "source": [
    "cassandra_session.execute('DROP TABLE IF EXISTS music_attributes;')\n",
    "\n",
    "creation = \\\n",
    "    \"\"\"\n",
    "    CREATE TABLE IF NOT EXISTS music_attributes (\n",
    "        key INT,\n",
    "        mode INT,\n",
    "        time_signature INT,\n",
    "        id TEXT,\n",
    "        name TEXT,\n",
    "        PRIMARY KEY ((key, mode, time_signature), id)\n",
    "    )\n",
    "    WITH CLUSTERING ORDER BY (id ASC);\n",
    "\"\"\"\n",
    "cassandra_session.execute(creation)\n",
    "tabular_query.insertion_music_attributes(cassandra_session, track_df)"
   ]
  },
  {
   "attachments": {},
   "cell_type": "markdown",
   "metadata": {},
   "source": [
    "##### Example: \n",
    "In this example, we are looking for music tracks that are in the key of C# or Db, have a minor mode, and an estimated time signature of three beats per measure. We will limit the returned results to 10. It can be observed that when we use Redis as a cache, its performance significantly outperforms using only Cassandra, despite the fact that Cassandra itself is already highly performant."
   ]
  },
  {
   "cell_type": "code",
   "execution_count": 14,
   "metadata": {},
   "outputs": [
    {
     "name": "stdout",
     "output_type": "stream",
     "text": [
      "Cassandra not using Redis as cache, time: 0.013391971588134766 s.\n",
      "Cassandra using Redis as cache, time: 0.0007891654968261719 s.\n",
      "----------------------------------------------------------------------------------------\n",
      "Speed Up :16.96978851963746 \n",
      "\n",
      "Row(id='000KblXP5csWFFFsD6smOy', name='Podrás')\n",
      "Row(id='00sVcA5dG61xeJPZjscYtc', name='With Every Heartbeat')\n",
      "Row(id='00zsFwSnoYLpzx3a1xEPW9', name='Murtunut elämä')\n",
      "Row(id='01XW7KrY2WDZ5VHCribChr', name='Symphony No. 4 in E Minor,Op. 98: IV. Allegro energico e passionata')\n",
      "Row(id='01dS4ZvJUbDwwe0YuP52Tr', name='İncelikler')\n",
      "Row(id='01tirLnUWIOOGh5FwPf1jU', name='Страна чудес')\n",
      "Row(id='01yTSXSghvy98C7I6kvEPJ', name='Vete de Mí Cuervo Negro')\n",
      "Row(id='028Eip1qNg2pjGrh7eP736', name='If I Had a Ribbon Bow')\n",
      "Row(id='02BFGMgS4ymR5RuZGNMKK1', name='Taksim Meydanı')\n",
      "Row(id='02CtvvKZuAJs9WilNTztM0', name='Pumuckl soll Ordnung lernen - Teil 03')\n"
     ]
    }
   ],
   "source": [
    "\n",
    "r.flushall()\n",
    "\n",
    "start = time.time()\n",
    "result = tabular_query.track_by_music_attributes(r, cassandra_session, 4, 0, 3, 10)\n",
    "end = time.time()\n",
    "\n",
    "before_redis = end - start\n",
    "print(f\"Cassandra not using Redis as cache, time: {end - start} s.\")\n",
    "\n",
    "start = time.time()\n",
    "result = tabular_query.track_by_music_attributes(r, cassandra_session, 4, 0, 3, 10)\n",
    "end = time.time()\n",
    "after_redis = end - start\n",
    "print(f\"Cassandra using Redis as cache, time: {end - start} s.\")\n",
    "\n",
    "print('----------------------------------------------------------------------------------------')\n",
    "print(f'Speed Up :{before_redis/after_redis}', '\\n')\n",
    "\n",
    "for line in result:\n",
    "    print(line)"
   ]
  },
  {
   "attachments": {},
   "cell_type": "markdown",
   "metadata": {},
   "source": [
    "### Neo4j Query"
   ]
  },
  {
   "attachments": {},
   "cell_type": "markdown",
   "metadata": {},
   "source": [
    "Neo4j setup"
   ]
  },
  {
   "cell_type": "code",
   "execution_count": 15,
   "metadata": {},
   "outputs": [],
   "source": [
    "# Setting up neo4j connection\n",
    "url = \"bolt://localhost:7666\"\n",
    "username = \"neo4j\"\n",
    "password = \"password\"\n",
    "def create_neo4j_session(url, username, password):\n",
    "    try:\n",
    "        driver = GraphDatabase.driver(url, auth=(username, password))\n",
    "        session = driver.session()\n",
    "        return session\n",
    "    except Exception as e:\n",
    "        print(f\"Failed to create Neo4j session: {e}\")\n",
    "        return None\n",
    "    \n",
    "def delete_all():\n",
    "    session = create_neo4j_session(url, username, password)\n",
    "    query = \"MATCH (n) DETACH DELETE n\"\n",
    "    result = session.run(query)\n",
    "    session.close()\n",
    "\n",
    "delete_all()\n",
    "neo4j_session = create_neo4j_session(url, username, password)"
   ]
  },
  {
   "attachments": {},
   "cell_type": "markdown",
   "metadata": {},
   "source": [
    "Insert data"
   ]
  },
  {
   "cell_type": "code",
   "execution_count": 16,
   "metadata": {},
   "outputs": [
    {
     "data": {
      "text/plain": [
       "<neo4j._sync.work.result.Result at 0x7fedbdea54f0>"
      ]
     },
     "execution_count": 16,
     "metadata": {},
     "output_type": "execute_result"
    }
   ],
   "source": [
    "# create Artist nodes\n",
    "create_nodes_query = '''LOAD CSV WITH HEADERS FROM 'file:///cleaned/artist_nodes.csv' AS row\n",
    "CALL {\n",
    "    WITH row\n",
    "    CREATE (:Artist {\n",
    "        artist_id: row.spotify_id, \n",
    "        name: row.name, \n",
    "        followers: row.followers, \n",
    "        popularity: row.popularity,\n",
    "        genres: row.genres,\n",
    "        community_id: null\n",
    "        })\n",
    "} IN TRANSACTIONS'''\n",
    "neo4j_session.run(create_nodes_query)\n",
    "\n",
    "# create COLLABORATE edges\n",
    "create_edges_query = '''LOAD CSV WITH HEADERS FROM \"file:///cleaned/collaborations.csv\" AS row\n",
    "CALL {\n",
    "  WITH row\n",
    "  MATCH (a: Artist {artist_id: row.id_0})\n",
    "  MATCH (b: Artist {artist_id: row.id_1})\n",
    "  CREATE (a)-[:COLLABORATE]->(b)\n",
    "  CREATE (b)-[:COLLABORATE]->(a)\n",
    "} IN TRANSACTIONS'''\n",
    "\n",
    "neo4j_session.run(create_edges_query)\n",
    "\n",
    "# create Track nodes and COMPOSED_BY edges\n",
    "create_tracks_query = '''LOAD CSV WITH HEADERS FROM 'file:///cleaned/track_nodes.csv' AS row\n",
    "CALL {\n",
    "    WITH row\n",
    "    MATCH (a:Artist)\n",
    "    WHERE a.artist_id in SPLIT(row.id_artists, ',')\n",
    "    CREATE (b:Track {track_id: row.id, \n",
    "        track_name: row.name, \n",
    "        track_popularity: row.popularity, \n",
    "        duration_ms: row.duration_ms,\n",
    "        danceability: toFloat(row.danceability),\n",
    "        energy: toFloat(row.energy),\n",
    "        key: toFloat(row.key),\n",
    "        loudness: toFloat(row.loudness),\n",
    "        liveness: toFloat(row.liveness),\n",
    "        tempo: toFloat(row.tempo)\n",
    "        })-[:COMPOSED_BY]->(a)        \n",
    "} IN TRANSACTIONS'''\n",
    "neo4j_session.run(create_tracks_query)"
   ]
  },
  {
   "attachments": {},
   "cell_type": "markdown",
   "metadata": {},
   "source": [
    "##### Example"
   ]
  },
  {
   "cell_type": "code",
   "execution_count": 17,
   "metadata": {},
   "outputs": [],
   "source": [
    "# Initializing the communities using Louvain algorithm\n",
    "graph_query.louvain_cluster(neo4j_session)"
   ]
  },
  {
   "cell_type": "code",
   "execution_count": 18,
   "metadata": {},
   "outputs": [
    {
     "name": "stderr",
     "output_type": "stream",
     "text": [
      "Failed to write data to connection IPv4Address(('localhost', 7666)) (ResolvedIPv6Address(('::1', 7666, 0, 0)))\n"
     ]
    },
    {
     "data": {
      "text/plain": [
       "'001f6XLtM53gwKSauiUcKI'"
      ]
     },
     "execution_count": 18,
     "metadata": {},
     "output_type": "execute_result"
    }
   ],
   "source": [
    "# Get one track id from the cassandra track_by_music_attributes query\n",
    "result = tabular_query.track_by_music_attributes(r, cassandra_session, key=1, mode=0, time_signature=4)\n",
    "input_track = graph_query.parse_track_id(result[0])\n",
    "input_track"
   ]
  },
  {
   "cell_type": "code",
   "execution_count": 19,
   "metadata": {},
   "outputs": [
    {
     "data": {
      "text/plain": [
       "[\"{'track_id': '001f6XLtM53gwKSauiUcKI', 'track_name': 'Tigresa - Remixed Original Album', 'pearsonSimilarity': 1.0}\",\n",
       " \"{'track_id': '3L7XJdSpz64JXGx2HSeDdN', 'track_name': 'Pipoca Moderna - Remixed Original Album', 'pearsonSimilarity': 0.9999953990736841}\",\n",
       " \"{'track_id': '1Hn0iEB1FPfJzJPK49qVtH', 'track_name': 'Mora Na Filosofia', 'pearsonSimilarity': 0.9999774442630288}\",\n",
       " \"{'track_id': '26OTzXhJuLqUNzPo0nJ6ug', 'track_name': 'Desde Que O Samba É Samba', 'pearsonSimilarity': 0.9999759164963357}\",\n",
       " \"{'track_id': '3U1kYZqlXH3ZwD7T3IGhT5', 'track_name': 'Escapulário - Remixed Original Abum', 'pearsonSimilarity': 0.9999756197035858}\",\n",
       " \"{'track_id': '3AelUK9uB5eGtcYmqgX7ps', 'track_name': 'Cajuína', 'pearsonSimilarity': 0.999969716392537}\",\n",
       " \"{'track_id': '2VBN5kSs1fyiE5fnOYeKsG', 'track_name': 'Sampa', 'pearsonSimilarity': 0.9999664273227357}\",\n",
       " \"{'track_id': '4LKORkGLmXfwTtxAvMIc2x', 'track_name': 'Sampa', 'pearsonSimilarity': 0.9999655118354478}\",\n",
       " \"{'track_id': '7sjeeE3NeBizcps3Il8JRt', 'track_name': 'Um Índio - Ao Vivo', 'pearsonSimilarity': 0.9999653949605617}\",\n",
       " \"{'track_id': '5aLk4GGEXZ0OaqECiNQ4KK', 'track_name': 'Sonhos', 'pearsonSimilarity': 0.9999645519928904}\"]"
      ]
     },
     "execution_count": 19,
     "metadata": {},
     "output_type": "execute_result"
    }
   ],
   "source": [
    "# Find similar tracks with the above query result\n",
    "graph_query.recommend_track(r, neo4j_session, input_track, limit=10)"
   ]
  },
  {
   "cell_type": "code",
   "execution_count": 20,
   "metadata": {},
   "outputs": [],
   "source": [
    "# r.flushall()\n",
    "neo4j_session.close()"
   ]
  }
 ],
 "metadata": {
  "kernelspec": {
   "display_name": "base",
   "language": "python",
   "name": "python3"
  },
  "language_info": {
   "codemirror_mode": {
    "name": "ipython",
    "version": 3
   },
   "file_extension": ".py",
   "mimetype": "text/x-python",
   "name": "python",
   "nbconvert_exporter": "python",
   "pygments_lexer": "ipython3",
   "version": "3.9.7"
  },
  "orig_nbformat": 4
 },
 "nbformat": 4,
 "nbformat_minor": 2
}
